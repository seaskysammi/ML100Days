{
 "cells": [
  {
   "cell_type": "markdown",
   "metadata": {
    "id": "X6zWvixQLxD5"
   },
   "source": [
    "# D1：Numpy 陣列的定義與屬性\n",
    "***"
   ]
  },
  {
   "cell_type": "markdown",
   "metadata": {
    "id": "73rNI8UPLxEH"
   },
   "source": [
    "# [教學目標]\n",
    "\n",
    "* 認識 Numpy 套件與 Array 陣列定義\n",
    "* 正確使用 Array 的常用屬性\n",
    "* 能夠掌握 Array 的重要特性\n"
   ]
  },
  {
   "cell_type": "code",
   "execution_count": 1,
   "metadata": {
    "id": "tXi4tx_0LxEJ",
    "outputId": "0062aa15-835c-4fc5-c1c3-5ba099489570"
   },
   "outputs": [
    {
     "name": "stdout",
     "output_type": "stream",
     "text": [
      "<module 'numpy' from 'C:\\\\Users\\\\seask\\\\anaconda3\\\\lib\\\\site-packages\\\\numpy\\\\__init__.py'>\n",
      "1.19.2\n"
     ]
    }
   ],
   "source": [
    "# 載入 NumPy 套件\n",
    "import numpy as np\n",
    "\n",
    "# 檢查正確載入與版本\n",
    "print(np)\n",
    "print(np.__version__)"
   ]
  },
  {
   "cell_type": "code",
   "execution_count": 2,
   "metadata": {
    "id": "78WDGPV3LxEN",
    "outputId": "9ee60c7b-e754-482d-834b-ff6efbdf88fd"
   },
   "outputs": [
    {
     "name": "stdout",
     "output_type": "stream",
     "text": [
      "[[ 0  1  2  3  4]\n",
      " [ 5  6  7  8  9]\n",
      " [10 11 12 13 14]]\n"
     ]
    },
    {
     "data": {
      "text/plain": [
       "array([[ 0,  1,  2,  3,  4],\n",
       "       [ 5,  6,  7,  8,  9],\n",
       "       [10, 11, 12, 13, 14]])"
      ]
     },
     "execution_count": 2,
     "metadata": {},
     "output_type": "execute_result"
    }
   ],
   "source": [
    "# 從一個陣列開始\n",
    "\n",
    "a = np.arange(15).reshape(3, 5)\n",
    "print(a) # 利用 print(...) 印出陣列\n",
    "a # 利用 Jupyter 印出陣列"
   ]
  },
  {
   "cell_type": "code",
   "execution_count": 3,
   "metadata": {
    "id": "z8ZypF43LxES",
    "outputId": "f8eb0e87-00e0-42e6-8124-0baf311d98b1"
   },
   "outputs": [
    {
     "name": "stdout",
     "output_type": "stream",
     "text": [
      "ndim:  2\n",
      "shape:  (3, 5)\n",
      "size:  15\n",
      "dtype:  int32\n",
      "itemsize:  4\n",
      "data:  <memory at 0x0000015B2466F790>\n"
     ]
    }
   ],
   "source": [
    "# 陣列的常用屬性\n",
    "\n",
    "print('ndim: ', a.ndim)\n",
    "print('shape: ', a.shape)\n",
    "print('size: ', a.size)\n",
    "print('dtype: ', a.dtype)\n",
    "print('itemsize: ', a.itemsize)\n",
    "print('data: ', a.data)\n"
   ]
  },
  {
   "cell_type": "code",
   "execution_count": 4,
   "metadata": {
    "id": "4INQZCfnLxET",
    "outputId": "cd9913db-fd67-4d35-e1ee-8214b3e98a11"
   },
   "outputs": [
    {
     "name": "stdout",
     "output_type": "stream",
     "text": [
      "list(a):  [array([0, 1, 2, 3, 4]), array([5, 6, 7, 8, 9]), array([10, 11, 12, 13, 14])]\n",
      "tolist():  [[0, 1, 2, 3, 4], [5, 6, 7, 8, 9], [10, 11, 12, 13, 14]]\n"
     ]
    }
   ],
   "source": [
    "# List 與 Array 的轉換\n",
    "\n",
    "print('list(a): ', list(a))\n",
    "print('tolist(): ', a.tolist())"
   ]
  },
  {
   "cell_type": "markdown",
   "metadata": {},
   "source": [
    "# [Homework]"
   ]
  },
  {
   "cell_type": "code",
   "execution_count": 9,
   "metadata": {
    "id": "ndo3FOBsVfua"
   },
   "outputs": [
    {
     "name": "stdout",
     "output_type": "stream",
     "text": [
      "list(a): [2, 8, 1, 4, 4, 7]\n",
      "a.tolist(): [2, 8, 1, 4, 4, 7]\n",
      "list(b): [array([1, 7]), array([9, 2]), array([0, 4])]\n",
      "b.tolist(): [[1, 7], [9, 2], [0, 4]]\n"
     ]
    }
   ],
   "source": [
    "# Homework1:請問下列兩種將 Array 轉換成 List 的方式有何不同？\n",
    "import numpy as np\n",
    "\n",
    "a = np.random.randint(10, size=6)\n",
    "\n",
    "print('list(a):', list(a))\n",
    "print('a.tolist():', a.tolist())\n",
    "\n",
    "b = np.random.randint(10, size=6).reshape(3,2)\n",
    "\n",
    "print('list(b):',list(b))\n",
    "print('b.tolist():', b.tolist())"
   ]
  },
  {
   "cell_type": "code",
   "execution_count": 13,
   "metadata": {},
   "outputs": [
    {
     "name": "stdout",
     "output_type": "stream",
     "text": [
      "[4 2 2 2 2 9]\n",
      "1\n",
      "(6,)\n",
      "6\n",
      "int32\n",
      "4\n",
      "6\n",
      "<class 'numpy.ndarray'>\n",
      "-------------\n",
      "[[8 1 9 9]\n",
      " [6 3 6 5]\n",
      " [2 0 2 6]]\n",
      "2\n",
      "(3, 4)\n",
      "12\n",
      "int32\n",
      "4\n",
      "3\n",
      "<class 'numpy.ndarray'>\n",
      "-------------\n",
      "[[[6 6]\n",
      "  [6 3]\n",
      "  [1 7]]\n",
      "\n",
      " [[8 1]\n",
      "  [7 8]\n",
      "  [9 0]]]\n",
      "3\n",
      "(2, 3, 2)\n",
      "12\n",
      "int32\n",
      "4\n",
      "2\n",
      "<class 'numpy.ndarray'>\n"
     ]
    }
   ],
   "source": [
    "# Homework2:請試著在程式中印出以下三個 NdArray 的屬性？\n",
    "#（屬性：ndim、shape、size、dtype、itemsize、length、type）\n",
    "import numpy as np\n",
    "a = np.random.randint(10, size=6)\n",
    "\n",
    "print(a)\n",
    "\n",
    "print(a.ndim)\n",
    "print(a.shape)\n",
    "print(a.size)\n",
    "print(a.dtype)\n",
    "print(a.itemsize)\n",
    "print(len(a))\n",
    "print(type(a))\n",
    "print('-------------')\n",
    "\n",
    "b = np.random.randint(10, size=(3,4))\n",
    "\n",
    "print(b)\n",
    "\n",
    "print(b.ndim)\n",
    "print(b.shape)\n",
    "print(b.size)\n",
    "print(b.dtype)\n",
    "print(b.itemsize)\n",
    "print(len(b))\n",
    "print(type(b))\n",
    "print('-------------')\n",
    "\n",
    "c= np.random.randint(10, size=(2,3,2))\n",
    "\n",
    "print(c)\n",
    "\n",
    "print(c.ndim)\n",
    "print(c.shape)\n",
    "print(c.size)\n",
    "print(c.dtype)\n",
    "print(c.itemsize)\n",
    "print(len(c))\n",
    "print(type(c))"
   ]
  },
  {
   "cell_type": "code",
   "execution_count": 18,
   "metadata": {},
   "outputs": [
    {
     "name": "stdout",
     "output_type": "stream",
     "text": [
      "[8, 5, 5, 1, 0, 2]\n",
      "[[0, 1, 6, 4], [2, 8, 8, 9], [4, 0, 0, 1]]\n",
      "[[[1, 4], [2, 0], [6, 8]], [[0, 8], [4, 2], [2, 6]]]\n",
      "-------------\n"
     ]
    }
   ],
   "source": [
    "# 如何利用 list(...) 實現 a.tolist() 的效果？試著用程式實作。\n",
    "a = np.random.randint(10, size=6)\n",
    "b = np.random.randint(10, size=(3,4))\n",
    "c= np.random.randint(10, size=(2,3,2))\n",
    "\n",
    "##簡單版\n",
    "def tolist(iterable):\n",
    "    if type(iterable) != np.ndarray:\n",
    "        return iterable\n",
    "    newlist = []\n",
    "    for obj in iterable:\n",
    "        newlist.append(tolist(obj))\n",
    "    return list(newlist)\n",
    "\n",
    "print(tolist(a))\n",
    "print(tolist(b))\n",
    "print(tolist(c))"
   ]
  },
  {
   "cell_type": "code",
   "execution_count": 19,
   "metadata": {},
   "outputs": [
    {
     "name": "stdout",
     "output_type": "stream",
     "text": [
      "[8, 5, 5, 1, 0, 2]\n",
      "[[0, 1, 6, 4], [2, 8, 8, 9], [4, 0, 0, 1]]\n",
      "[[[1, 4], [2, 0], [6, 8]], [[0, 8], [4, 2], [2, 6]]]\n"
     ]
    }
   ],
   "source": [
    "##進階版\n",
    "def tolist(iterable):\n",
    "    if type(iterable) != np.ndarray:\n",
    "        return iterable\n",
    "    return [tolist(obj) for obj in iterable]\n",
    "\n",
    "print(tolist(a))\n",
    "print(tolist(b))\n",
    "print(tolist(c))"
   ]
  },
  {
   "cell_type": "code",
   "execution_count": null,
   "metadata": {},
   "outputs": [],
   "source": []
  }
 ],
 "metadata": {
  "colab": {
   "name": "01 Example_維元.ipynb",
   "provenance": []
  },
  "kernelspec": {
   "display_name": "Python 3",
   "language": "python",
   "name": "python3"
  },
  "language_info": {
   "codemirror_mode": {
    "name": "ipython",
    "version": 3
   },
   "file_extension": ".py",
   "mimetype": "text/x-python",
   "name": "python",
   "nbconvert_exporter": "python",
   "pygments_lexer": "ipython3",
   "version": "3.8.5"
  }
 },
 "nbformat": 4,
 "nbformat_minor": 1
}
